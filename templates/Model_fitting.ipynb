{
 "cells": [
  {
   "cell_type": "markdown",
   "id": "d89c0c5c-e4b4-409d-8fd8-6b5492ac1b5a",
   "metadata": {},
   "source": [
    "# Data engineering and Model fitting"
   ]
  },
  {
   "cell_type": "code",
   "execution_count": null,
   "id": "10547a0e-443d-4006-ac37-6cc15e5a5480",
   "metadata": {},
   "outputs": [],
   "source": [
    "import numpy as np\n",
    "import seaborn as sns\n",
    "import matplotlib.pyplot as plt\n",
    "import pandas as pd\n",
    "\n",
    "# Scikit learn packages\n",
    "from sklearn.model_selection import train_test_split\n",
    "from sklearn.linear_model import LinearRegression\n",
    "from sklearn import metrics\n",
    "from sklearn.preprocessing import StandardScaler #for scaling of mileage\n",
    "\n",
    "# Statsmodel packages\n",
    "import statsmodels.api as sm\n",
    "import statsmodels.tools\n",
    "\n",
    "from statsmodels.stats.outliers_influence import variance_inflation_factor\n",
    "\n",
    "#for normality test\n",
    "from scipy import stats"
   ]
  },
  {
   "cell_type": "markdown",
   "id": "53c5b612-3723-470a-94c2-4db882d84b6a",
   "metadata": {},
   "source": [
    "## Defining useful functions"
   ]
  },
  {
   "cell_type": "code",
   "execution_count": null,
   "id": "86fcb579-de08-4222-a1cc-467c88d6403e",
   "metadata": {},
   "outputs": [],
   "source": [
    "def dummies(columns_to_dummy, df):\n",
    "    \"\"\"Function that returns dummies for the columns specified\"\"\"\n",
    "    df = pd.get_dummies(data=df, columns=columns_to_dummy,\n",
    "                        drop_first=True, prefix = columns_to_dummy)\n",
    "\n",
    "    return df"
   ]
  },
  {
   "cell_type": "code",
   "execution_count": null,
   "id": "d6ad112a-9116-4c7f-a01b-be1289c644a0",
   "metadata": {},
   "outputs": [],
   "source": [
    "def apr(y_pred, y_real):\n",
    "    accuracy = metrics.accuracy_score(y_real, y_pred)\n",
    "    precision = metrics.precision_score(y_real, y_pred)\n",
    "    recall = metrics.recall_score(y_real, y_pred)\n",
    "    f1 = metrics.f1_score(y_real, y_pred)\n",
    "    \n",
    "    print(f\"Accuracy:{accuracy}\")\n",
    "    print(f\"Precision:{precision}\")\n",
    "    print(f\"Recall:{recall}\")\n",
    "    print(f\"F1:{f1}\")\n",
    "    return accuracy, precision, recall, f1\n"
   ]
  },
  {
   "cell_type": "code",
   "execution_count": null,
   "id": "19dbdcfa-af36-44fb-ac60-fe8f878e1f6a",
   "metadata": {},
   "outputs": [],
   "source": [
    "def produce_confusion(positive_label, negative_label, cut_off, df, y_pred_name, y_real_name):\n",
    "    \n",
    "    #Set pred to 0 or 1 depending on whether it's higher than the cut_off point.\n",
    "    \n",
    "    if cut_off != 'binary':      \n",
    "        df['pred_binary'] = np.where(df[y_pred_name] > cut_off , 1, 0)\n",
    "    else: \n",
    "        df['pred_binary'] = df[y_pred_name]\n",
    "    \n",
    "    #Build the CM\n",
    "    cm = confusion_matrix(df[y_real_name], df['pred_binary'])  \n",
    "    \n",
    "    ax= plt.subplot()\n",
    "    sns.heatmap(cm, annot=True, ax=ax, fmt='g'); \n",
    "\n",
    "    # labels, title, ticks\n",
    "    ax.set_xlabel('Predicted labels');ax.set_ylabel('Real labels'); \n",
    "    ax.set_title('Confusion Matrix'); \n",
    "    ax.xaxis.set_ticklabels([negative_label, positive_label])\n",
    "    ax.yaxis.set_ticklabels([negative_label, positive_label]);\n",
    "\n",
    "    print('Test accuracy = ', accuracy_score(df[y_real_name], df['pred_binary']))\n",
    "\n",
    "    return accuracy_score(df[y_real_name], df['pred_binary'])"
   ]
  },
  {
   "cell_type": "code",
   "execution_count": null,
   "id": "9670ecdd-ac9d-4dc5-af94-6c0b6928f2a2",
   "metadata": {},
   "outputs": [],
   "source": [
    "#function converting int to numeric based on index\n",
    "def get_index(df, x):\n",
    "    unique_items= list(df[x].unique())\n",
    "    unique_items.sort()\n",
    "    \n",
    "    def index_n(n):\n",
    "        return unique_items.index(n) + 1 \n",
    "    \n",
    "    df[x] = df[x].apply(index_n)\n",
    "    return df"
   ]
  },
  {
   "cell_type": "markdown",
   "id": "5d749601-972e-484b-a3c0-d2aceae4cff9",
   "metadata": {},
   "source": [
    "## Test Train Split"
   ]
  },
  {
   "cell_type": "code",
   "execution_count": null,
   "id": "3f91ec21-aa4e-4676-b7e5-4d818d90ca3f",
   "metadata": {},
   "outputs": [],
   "source": [
    "feature_cols = ['column1', 'column2', 'column3']"
   ]
  },
  {
   "cell_type": "code",
   "execution_count": null,
   "id": "ae214997-99bc-44dd-85d0-33ff193f003e",
   "metadata": {},
   "outputs": [],
   "source": [
    "# Create X, and y.\n",
    "\n",
    "X = df[feature_cols] ##subset with all the features from feature_cols\n",
    "y = df[['target']]"
   ]
  },
  {
   "cell_type": "code",
   "execution_count": null,
   "id": "581788ef-4b32-4055-857c-165aea60dc1b",
   "metadata": {},
   "outputs": [],
   "source": [
    "# train test split with random seed set to 42 and 20% test size\n",
    "X_train, X_test, y_train, y_test = train_test_split(X.copy(), #features\n",
    "                                                    y.copy(), #target\n",
    "                                                    test_size = 0.2, #20% of the dataframe Audi is test\n",
    "                                                    random_state = 42) #random seed"
   ]
  }
 ],
 "metadata": {
  "kernelspec": {
   "display_name": "Python 3 (ipykernel)",
   "language": "python",
   "name": "python3"
  },
  "language_info": {
   "codemirror_mode": {
    "name": "ipython",
    "version": 3
   },
   "file_extension": ".py",
   "mimetype": "text/x-python",
   "name": "python",
   "nbconvert_exporter": "python",
   "pygments_lexer": "ipython3",
   "version": "3.8.12"
  }
 },
 "nbformat": 4,
 "nbformat_minor": 5
}
